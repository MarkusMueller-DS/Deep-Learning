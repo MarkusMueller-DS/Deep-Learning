{
 "cells": [
  {
   "cell_type": "markdown",
   "id": "62edb500-b9b3-48d0-b287-c92c2f600340",
   "metadata": {},
   "source": [
    "# MLP in PyTorch\n",
    "- What is an MLP?\n",
    "    - a fully connected neural network\n",
    "    - sequence of layers connected in tandem"
   ]
  },
  {
   "cell_type": "code",
   "execution_count": 38,
   "id": "2041bcd6-d22d-443b-9a3c-581e08a94e52",
   "metadata": {},
   "outputs": [],
   "source": [
    "# imports\n",
    "import numpy as np\n",
    "\n",
    "import torch \n",
    "import torch.nn as nn\n",
    "import torch.optim as optim\n",
    "\n",
    "import tqdm\n",
    "\n",
    "import matplotlib.pyplot as plt"
   ]
  },
  {
   "cell_type": "markdown",
   "id": "e162e348-9139-4cdc-89d3-f13df50c7f81",
   "metadata": {},
   "source": [
    "## Basic Steps\n",
    "1. Load Data\n",
    "2. Define PyTorch Model\n",
    "3. Define Loss Functiona and Optimizers\n",
    "4. Run a Training Loop\n",
    "5. Evaluate the Model\n",
    "6. Make Predictions"
   ]
  },
  {
   "cell_type": "markdown",
   "id": "1f4dcddb-21b5-4508-9abe-a77d43c200d9",
   "metadata": {},
   "source": [
    "## 1 Load Data\n",
    "- Pima Indians onset of diabetes dataset: https://raw.githubusercontent.com/jbrownlee/Datasets/master/pima-indians-diabetes.data.csv\n",
    "- Binary classification: onset of diabetes as 1 or not as 0\n",
    "\n",
    "- Input Variables (X)\n",
    "    -  Number of times pregnant\n",
    "    - Plasma glucose concentration at 2 hours in an oral glucose tolerance test\n",
    "    - Diastolic blood pressure (mm Hg)\n",
    "    - Triceps skin fold thickness (mm)\n",
    "    - 2-hour serum insulin (μIU/ml)\n",
    "    - Body mass index (weight in kg/(height in m)2)\n",
    "    - Diabetes pedigree function\n",
    "    - Age (years) \n",
    "- Outputs Variable (y)\n",
    "    - Class label (0 or 1)\n",
    "\n",
    "- Data should be split into train and test set\n",
    "    - **train set**: used to train the model\n",
    "    - **test set**: used to benchmark the model on unseen data"
   ]
  },
  {
   "cell_type": "code",
   "execution_count": 23,
   "id": "9a9f05d4-7c52-426b-99c5-09ffbc9d6dc8",
   "metadata": {},
   "outputs": [
    {
     "name": "stdout",
     "output_type": "stream",
     "text": [
      "Numpy arrays:\n",
      "shape dataset: (768, 9)\n",
      "shape X: (768, 8) tpye: float64\n",
      "shape y: (768,) tpye: float64\n",
      "y before reshape: [1. 0. 1. 0. 1. 0. 1. 0. 1. 1.]\n",
      "--------------------\n",
      "PyTorch Tensor:\n",
      "shape X: torch.Size([768, 8]) tpye: torch.float32\n",
      "shape y: torch.Size([768, 1]) tpye: torch.float32\n",
      "y after reshape: tensor([[1.],\n",
      "        [0.],\n",
      "        [1.],\n",
      "        [0.],\n",
      "        [1.],\n",
      "        [0.],\n",
      "        [1.],\n",
      "        [0.],\n",
      "        [1.],\n",
      "        [1.]])\n",
      "--------------------\n",
      "shape of train set: torch.Size([700, 8]) torch.Size([700, 1])\n",
      "shape of test set: torch.Size([68, 8]) torch.Size([68, 1])\n"
     ]
    }
   ],
   "source": [
    "# load data\n",
    "dataset = np.loadtxt('data/pima-indians-diabetes.csv', delimiter=',')\n",
    "# frist 8 columns are the features\n",
    "# the 9th column is the label\n",
    "print(\"Numpy arrays:\")\n",
    "print(\"shape dataset:\", dataset.shape)\n",
    "X = dataset[:, :8]\n",
    "y = dataset[:, -1]\n",
    "\n",
    "print(\"shape X:\", X.shape, \"tpye:\", X.dtype)\n",
    "print(\"shape y:\", y.shape, \"tpye:\", y.dtype)\n",
    "print(\"y before reshape:\", y[:10])\n",
    "print(\"-\"*20)\n",
    "\n",
    "# data needs to be converted to PyTorch tensors\n",
    "# numpy is 64-bit floating point but PyTorch operates on\n",
    "# 32-bit floating point\n",
    "# reshape y to make every label its own tensor\n",
    "# PyTorch prefers  n x 1 matrix over n-vectors\n",
    "print(\"PyTorch Tensor:\")\n",
    "X = torch.tensor(X, dtype=torch.float32)\n",
    "y = torch.tensor(y, dtype=torch.float32).reshape(-1,1)\n",
    "print(\"shape X:\", X.shape, \"tpye:\", X.dtype)\n",
    "print(\"shape y:\", y.shape, \"tpye:\", y.dtype)\n",
    "print(\"y after reshape:\", y[:10])\n",
    "print(\"-\"*20)\n",
    "\n",
    "# Split data into training and test sets\n",
    "Xtrain = X[:700]\n",
    "ytrain = y[:700]\n",
    "Xtest = X[700:]\n",
    "ytest = y[700:]\n",
    "print(\"shape of train set:\", Xtrain.shape, ytrain.shape)\n",
    "print(\"shape of test set:\", Xtest.shape, ytest.shape)"
   ]
  },
  {
   "cell_type": "markdown",
   "id": "4b9a4ab0-2896-46a1-89da-594a3c416321",
   "metadata": {},
   "source": [
    "## 2 Define Model\n",
    "- How many layers?\n",
    "    - use of heuristics\n",
    "    - look at what other people use\n",
    "    - through train and error\n",
    "- usually:\n",
    "    - a model that is large enough to capture the structure of the problem\n",
    "    - but small enough to make it fast\n",
    "- here: \n",
    "    - fully-connected network with three layers\n",
    "- activation Function\n",
    "    - ReLU() for the first two layers\n",
    "        - better then sigmoid or tanh\n",
    "        - better performance in both speed and accuracy\n",
    "    - Sigmod() for the output layer\n",
    "        - ensures us that the output is between 0 and 1\n",
    "    - if not provided the outputs gets just progagated through the network and prduce a linear function\n",
    "    - we need them to intorduce non-linearity to the network"
   ]
  },
  {
   "cell_type": "code",
   "execution_count": 24,
   "id": "c796de0e-8c93-4515-9c13-0a28cee1aa54",
   "metadata": {},
   "outputs": [
    {
     "name": "stdout",
     "output_type": "stream",
     "text": [
      "Squential model: Sequential(\n",
      "  (0): Linear(in_features=8, out_features=12, bias=True)\n",
      "  (1): ReLU()\n",
      "  (2): Linear(in_features=12, out_features=8, bias=True)\n",
      "  (3): ReLU()\n",
      "  (4): Linear(in_features=8, out_features=1, bias=True)\n",
      "  (5): Sigmoid()\n",
      ")\n",
      "Python class: PimaClassifier(\n",
      "  (hidden1): Linear(in_features=8, out_features=12, bias=True)\n",
      "  (act1): ReLU()\n",
      "  (hidden2): Linear(in_features=12, out_features=8, bias=True)\n",
      "  (act2): ReLU()\n",
      "  (output): Linear(in_features=8, out_features=1, bias=True)\n",
      "  (act_output): Sigmoid()\n",
      ")\n"
     ]
    }
   ],
   "source": [
    "# use interal sequential api for easy definition\n",
    "model_seq = nn.Sequential(\n",
    "    # fist layer must have the same amount as there are features\n",
    "    nn.Linear(8, 12),\n",
    "    nn.ReLU(),\n",
    "    nn.Linear(12, 8),\n",
    "    nn.ReLU(),\n",
    "    nn.Linear(8, 1),\n",
    "    nn.Sigmoid()\n",
    ")\n",
    "print(\"Squential model:\", model_seq)\n",
    "\n",
    "# a more verbose way of defining a model through a python class\n",
    "class PimaClassifier(nn.Module):\n",
    "    # define the layout of the model in the constructer\n",
    "    # so that it will be directly created when an\n",
    "    # instance of the class is created\n",
    "    def __init__(self):\n",
    "        # call the parents class constructor to bootstrap model\n",
    "        super().__init__()\n",
    "        # define the layers and activation functions after each layer\n",
    "        # Input: 8, Output: 12\n",
    "        self.hidden1 = nn.Linear(8, 12)\n",
    "        self.act1 = nn.ReLU()\n",
    "        # Input: 12 (the output from before), Output: 8 \n",
    "        self.hidden2 = nn.Linear(12, 8)\n",
    "        self.act2 = nn.ReLU()\n",
    "        #etc.\n",
    "        self.output = nn.Linear(8, 1)\n",
    "        self.act_output = nn.Sigmoid()\n",
    "    \n",
    "    # tell PyTorch how to produce the output y Tensor\n",
    "    # given the input X\n",
    "    # simple forward pass\n",
    "    def forward(self, x):\n",
    "        x = self.act1(self.hidden1(x))\n",
    "        x = self.act2(self.hidden2(x))\n",
    "        x = self.act_output(self.output(x))\n",
    "        return x\n",
    " \n",
    "model= PimaClassifier()\n",
    "print(\"Python class:\", model)"
   ]
  },
  {
   "cell_type": "markdown",
   "id": "1e864ba9-93c1-4a61-b8a4-56ae69492fae",
   "metadata": {},
   "source": [
    "## 3 Define Loss Functions and Optimizers\n",
    "- define what is the goal of training\n",
    "- training a network:\n",
    "    - find the best set of weights to map inputs to outputs so that the outputs are close to the lable.\n",
    "- to do this we define a loss function"
   ]
  },
  {
   "cell_type": "code",
   "execution_count": 25,
   "id": "bf4aa551-b845-4b6f-bc86-3d88955cc72c",
   "metadata": {},
   "outputs": [
    {
     "name": "stdout",
     "output_type": "stream",
     "text": [
      "loss function: BCELoss() \n",
      "\n",
      "Model parameters:\n",
      "hidden1.weight torch.Size([12, 8])\n",
      "hidden1.bias torch.Size([12])\n",
      "hidden2.weight torch.Size([8, 12])\n",
      "hidden2.bias torch.Size([8])\n",
      "output.weight torch.Size([1, 8])\n",
      "output.bias torch.Size([1])\n",
      "\n",
      "optimizer: Adam (\n",
      "Parameter Group 0\n",
      "    amsgrad: False\n",
      "    betas: (0.9, 0.999)\n",
      "    capturable: False\n",
      "    differentiable: False\n",
      "    eps: 1e-08\n",
      "    foreach: None\n",
      "    fused: False\n",
      "    lr: 0.001\n",
      "    maximize: False\n",
      "    weight_decay: 0\n",
      ")\n"
     ]
    }
   ],
   "source": [
    "# since this is a binary classification task we need to use\n",
    "# binary corss entropy loss\n",
    "loss_fn = nn.BCELoss()\n",
    "print(\"loss function:\", loss_fn, \"\\n\")\n",
    "\n",
    "# optimizer\n",
    "# model.parameters() -> tells the optimzer what to optimize\n",
    "# the weights and bias of each layer\n",
    "print(\"Model parameters:\")\n",
    "for name, param in model.state_dict().items():\n",
    "    print(name, param.size())\n",
    "print()\n",
    "# lr -> leraning rate\n",
    "optimizer = optim.Adam(model.parameters(), lr=0.001)\n",
    "print(\"optimizer:\", optimizer)"
   ]
  },
  {
   "cell_type": "markdown",
   "id": "e8a83681-af4a-4b4d-ad61-6c719b12101b",
   "metadata": {},
   "source": [
    "## 4 Run a Training Loop\n",
    "- training a neural network involes epochs and batches:\n",
    "    - **Epoch**: one forward and backward pass of ALL training samples\n",
    "    - **Batch**: number of samples to use in one iteration to calculate gradient descent\n",
    "- the dataset is split into multiple batches\n",
    "- to comolete an Epoch every batch must run through the model\n",
    "    - in each Batch:\n",
    "        - **forward pass**: calculate the output from the input\n",
    "        - **backward pass**: evaluating the loss metric fromt he output and deriving the gradient descent of each paramter all the way back to the input layer. These gradients are used to adjust the model parameters.\n",
    "- size of a batch is limited by the system memory\n",
    "- *trade-off*:\n",
    "    - time complexity vs. accuracy\n",
    "    - when there are more batches -> gradient descent get applied more -> better reults -> more time cosuming\n",
    "    - when there are less batches -> gradient descent gets applied less -> worse results -> less time consuming\n",
    "- generally choosen by trail and error\n",
    "- model convergence:\n",
    "    - amount of error reduces in the later epochs but eventually levles out\n",
    "- after each Epoch certain \"housekeeping\" tasks can/should be done:\n",
    "    - benchmarking\n",
    "    - checkpointing the model\n",
    "    - decide if we want to stop traing early \n",
    "    - collecting training statistics\n",
    "    - etc.\n",
    "- during training we would like to see:\n",
    "    - in each step: the loss metrics\n",
    "    - in each step: accuracy on the training set \n",
    "    - at the end of each epoch: evaluate the partially-trained model with the test set \n",
    "    - at the end of training: visualize the metrics from above\n",
    "\n"
   ]
  },
  {
   "cell_type": "code",
   "execution_count": 39,
   "id": "52a95171-b47a-4ca0-9ca3-b4c612b01d04",
   "metadata": {
    "scrolled": true,
    "tags": []
   },
   "outputs": [
    {
     "name": "stderr",
     "output_type": "stream",
     "text": [
      "Epoch 0: 100%|██████████████████████████████████████████████████████████████████| 70/70 [00:00<00:00, 434.70batch/s, acc=60.00%, loss=0.667]\n"
     ]
    },
    {
     "name": "stdout",
     "output_type": "stream",
     "text": [
      "End of 0, accuracy: 0.6911764740943909\n"
     ]
    },
    {
     "name": "stderr",
     "output_type": "stream",
     "text": [
      "Epoch 1: 100%|███████████████████████████████████████████████████████████████████| 70/70 [00:00<00:00, 601.28batch/s, acc=60.00%, loss=0.67]\n"
     ]
    },
    {
     "name": "stdout",
     "output_type": "stream",
     "text": [
      "End of 1, accuracy: 0.6911764740943909\n"
     ]
    },
    {
     "name": "stderr",
     "output_type": "stream",
     "text": [
      "Epoch 2: 100%|██████████████████████████████████████████████████████████████████| 70/70 [00:00<00:00, 605.70batch/s, acc=60.00%, loss=0.672]\n"
     ]
    },
    {
     "name": "stdout",
     "output_type": "stream",
     "text": [
      "End of 2, accuracy: 0.6911764740943909\n"
     ]
    },
    {
     "name": "stderr",
     "output_type": "stream",
     "text": [
      "Epoch 3: 100%|██████████████████████████████████████████████████████████████████| 70/70 [00:00<00:00, 602.22batch/s, acc=60.00%, loss=0.673]\n"
     ]
    },
    {
     "name": "stdout",
     "output_type": "stream",
     "text": [
      "End of 3, accuracy: 0.6911764740943909\n"
     ]
    },
    {
     "name": "stderr",
     "output_type": "stream",
     "text": [
      "Epoch 4: 100%|███████████████████████████████████████████████████████████████████| 70/70 [00:00<00:00, 586.65batch/s, acc=60.00%, loss=0.67]\n"
     ]
    },
    {
     "name": "stdout",
     "output_type": "stream",
     "text": [
      "End of 4, accuracy: 0.6911764740943909\n"
     ]
    },
    {
     "name": "stderr",
     "output_type": "stream",
     "text": [
      "Epoch 5: 100%|██████████████████████████████████████████████████████████████████| 70/70 [00:00<00:00, 583.31batch/s, acc=60.00%, loss=0.671]\n"
     ]
    },
    {
     "name": "stdout",
     "output_type": "stream",
     "text": [
      "End of 5, accuracy: 0.6911764740943909\n"
     ]
    },
    {
     "name": "stderr",
     "output_type": "stream",
     "text": [
      "Epoch 6: 100%|██████████████████████████████████████████████████████████████████| 70/70 [00:00<00:00, 584.75batch/s, acc=60.00%, loss=0.674]\n"
     ]
    },
    {
     "name": "stdout",
     "output_type": "stream",
     "text": [
      "End of 6, accuracy: 0.6911764740943909\n"
     ]
    },
    {
     "name": "stderr",
     "output_type": "stream",
     "text": [
      "Epoch 7: 100%|██████████████████████████████████████████████████████████████████| 70/70 [00:00<00:00, 584.36batch/s, acc=60.00%, loss=0.676]\n"
     ]
    },
    {
     "name": "stdout",
     "output_type": "stream",
     "text": [
      "End of 7, accuracy: 0.6911764740943909\n"
     ]
    },
    {
     "name": "stderr",
     "output_type": "stream",
     "text": [
      "Epoch 8: 100%|██████████████████████████████████████████████████████████████████| 70/70 [00:00<00:00, 528.39batch/s, acc=60.00%, loss=0.674]\n"
     ]
    },
    {
     "name": "stdout",
     "output_type": "stream",
     "text": [
      "End of 8, accuracy: 0.6911764740943909\n"
     ]
    },
    {
     "name": "stderr",
     "output_type": "stream",
     "text": [
      "Epoch 9: 100%|██████████████████████████████████████████████████████████████████| 70/70 [00:00<00:00, 558.71batch/s, acc=60.00%, loss=0.676]\n"
     ]
    },
    {
     "name": "stdout",
     "output_type": "stream",
     "text": [
      "End of 9, accuracy: 0.6911764740943909\n"
     ]
    },
    {
     "name": "stderr",
     "output_type": "stream",
     "text": [
      "Epoch 10: 100%|█████████████████████████████████████████████████████████████████| 70/70 [00:00<00:00, 582.51batch/s, acc=60.00%, loss=0.663]\n"
     ]
    },
    {
     "name": "stdout",
     "output_type": "stream",
     "text": [
      "End of 10, accuracy: 0.6911764740943909\n"
     ]
    },
    {
     "name": "stderr",
     "output_type": "stream",
     "text": [
      "Epoch 11: 100%|█████████████████████████████████████████████████████████████████| 70/70 [00:00<00:00, 550.61batch/s, acc=60.00%, loss=0.665]\n"
     ]
    },
    {
     "name": "stdout",
     "output_type": "stream",
     "text": [
      "End of 11, accuracy: 0.6911764740943909\n"
     ]
    },
    {
     "name": "stderr",
     "output_type": "stream",
     "text": [
      "Epoch 12: 100%|█████████████████████████████████████████████████████████████████| 70/70 [00:00<00:00, 619.23batch/s, acc=60.00%, loss=0.687]\n"
     ]
    },
    {
     "name": "stdout",
     "output_type": "stream",
     "text": [
      "End of 12, accuracy: 0.6911764740943909\n"
     ]
    },
    {
     "name": "stderr",
     "output_type": "stream",
     "text": [
      "Epoch 13: 100%|█████████████████████████████████████████████████████████████████| 70/70 [00:00<00:00, 576.22batch/s, acc=60.00%, loss=0.671]\n"
     ]
    },
    {
     "name": "stdout",
     "output_type": "stream",
     "text": [
      "End of 13, accuracy: 0.6911764740943909\n"
     ]
    },
    {
     "name": "stderr",
     "output_type": "stream",
     "text": [
      "Epoch 14: 100%|█████████████████████████████████████████████████████████████████| 70/70 [00:00<00:00, 574.22batch/s, acc=60.00%, loss=0.675]\n"
     ]
    },
    {
     "name": "stdout",
     "output_type": "stream",
     "text": [
      "End of 14, accuracy: 0.6911764740943909\n"
     ]
    },
    {
     "name": "stderr",
     "output_type": "stream",
     "text": [
      "Epoch 15: 100%|█████████████████████████████████████████████████████████████████| 70/70 [00:00<00:00, 630.26batch/s, acc=60.00%, loss=0.674]\n"
     ]
    },
    {
     "name": "stdout",
     "output_type": "stream",
     "text": [
      "End of 15, accuracy: 0.6911764740943909\n"
     ]
    },
    {
     "name": "stderr",
     "output_type": "stream",
     "text": [
      "Epoch 16: 100%|█████████████████████████████████████████████████████████████████| 70/70 [00:00<00:00, 608.93batch/s, acc=60.00%, loss=0.678]\n"
     ]
    },
    {
     "name": "stdout",
     "output_type": "stream",
     "text": [
      "End of 16, accuracy: 0.6911764740943909\n"
     ]
    },
    {
     "name": "stderr",
     "output_type": "stream",
     "text": [
      "Epoch 17: 100%|█████████████████████████████████████████████████████████████████| 70/70 [00:00<00:00, 615.82batch/s, acc=60.00%, loss=0.674]\n"
     ]
    },
    {
     "name": "stdout",
     "output_type": "stream",
     "text": [
      "End of 17, accuracy: 0.6911764740943909\n"
     ]
    },
    {
     "name": "stderr",
     "output_type": "stream",
     "text": [
      "Epoch 18: 100%|█████████████████████████████████████████████████████████████████| 70/70 [00:00<00:00, 615.95batch/s, acc=60.00%, loss=0.677]\n"
     ]
    },
    {
     "name": "stdout",
     "output_type": "stream",
     "text": [
      "End of 18, accuracy: 0.6911764740943909\n"
     ]
    },
    {
     "name": "stderr",
     "output_type": "stream",
     "text": [
      "Epoch 19: 100%|█████████████████████████████████████████████████████████████████| 70/70 [00:00<00:00, 611.62batch/s, acc=60.00%, loss=0.676]\n"
     ]
    },
    {
     "name": "stdout",
     "output_type": "stream",
     "text": [
      "End of 19, accuracy: 0.6911764740943909\n"
     ]
    },
    {
     "name": "stderr",
     "output_type": "stream",
     "text": [
      "Epoch 20:  70%|█████████████████████████████████████████████▌                   | 49/70 [00:00<00:00, 589.30batch/s, acc=90.00%, loss=0.502]IOPub message rate exceeded.\n",
      "The Jupyter server will temporarily stop sending output\n",
      "to the client in order to avoid crashing it.\n",
      "To change this limit, set the config variable\n",
      "`--ServerApp.iopub_msg_rate_limit`.\n",
      "\n",
      "Current values:\n",
      "ServerApp.iopub_msg_rate_limit=1000.0 (msgs/sec)\n",
      "ServerApp.rate_limit_window=3.0 (secs)\n",
      "\n",
      "Epoch 32: 100%|█████████████████████████████████████████████████████████████████| 70/70 [00:00<00:00, 810.86batch/s, acc=60.00%, loss=0.683]\n"
     ]
    },
    {
     "name": "stdout",
     "output_type": "stream",
     "text": [
      "End of 32, accuracy: 0.7058823704719543\n"
     ]
    },
    {
     "name": "stderr",
     "output_type": "stream",
     "text": [
      "Epoch 33: 100%|█████████████████████████████████████████████████████████████████| 70/70 [00:00<00:00, 568.15batch/s, acc=60.00%, loss=0.679]\n"
     ]
    },
    {
     "name": "stdout",
     "output_type": "stream",
     "text": [
      "End of 33, accuracy: 0.7058823704719543\n"
     ]
    },
    {
     "name": "stderr",
     "output_type": "stream",
     "text": [
      "Epoch 34: 100%|█████████████████████████████████████████████████████████████████| 70/70 [00:00<00:00, 567.08batch/s, acc=60.00%, loss=0.674]\n"
     ]
    },
    {
     "name": "stdout",
     "output_type": "stream",
     "text": [
      "End of 34, accuracy: 0.7058823704719543\n"
     ]
    },
    {
     "name": "stderr",
     "output_type": "stream",
     "text": [
      "Epoch 35: 100%|█████████████████████████████████████████████████████████████████| 70/70 [00:00<00:00, 623.63batch/s, acc=60.00%, loss=0.676]\n"
     ]
    },
    {
     "name": "stdout",
     "output_type": "stream",
     "text": [
      "End of 35, accuracy: 0.7058823704719543\n"
     ]
    },
    {
     "name": "stderr",
     "output_type": "stream",
     "text": [
      "Epoch 36: 100%|█████████████████████████████████████████████████████████████████| 70/70 [00:00<00:00, 601.55batch/s, acc=60.00%, loss=0.657]\n"
     ]
    },
    {
     "name": "stdout",
     "output_type": "stream",
     "text": [
      "End of 36, accuracy: 0.7058823704719543\n"
     ]
    },
    {
     "name": "stderr",
     "output_type": "stream",
     "text": [
      "Epoch 37: 100%|█████████████████████████████████████████████████████████████████| 70/70 [00:00<00:00, 652.77batch/s, acc=60.00%, loss=0.669]\n"
     ]
    },
    {
     "name": "stdout",
     "output_type": "stream",
     "text": [
      "End of 37, accuracy: 0.7058823704719543\n"
     ]
    },
    {
     "name": "stderr",
     "output_type": "stream",
     "text": [
      "Epoch 38: 100%|█████████████████████████████████████████████████████████████████| 70/70 [00:00<00:00, 667.95batch/s, acc=60.00%, loss=0.668]\n"
     ]
    },
    {
     "name": "stdout",
     "output_type": "stream",
     "text": [
      "End of 38, accuracy: 0.7058823704719543\n"
     ]
    },
    {
     "name": "stderr",
     "output_type": "stream",
     "text": [
      "Epoch 39: 100%|█████████████████████████████████████████████████████████████████| 70/70 [00:00<00:00, 706.80batch/s, acc=60.00%, loss=0.677]\n"
     ]
    },
    {
     "name": "stdout",
     "output_type": "stream",
     "text": [
      "End of 39, accuracy: 0.7058823704719543\n"
     ]
    },
    {
     "name": "stderr",
     "output_type": "stream",
     "text": [
      "Epoch 40: 100%|█████████████████████████████████████████████████████████████████| 70/70 [00:00<00:00, 696.32batch/s, acc=60.00%, loss=0.674]\n"
     ]
    },
    {
     "name": "stdout",
     "output_type": "stream",
     "text": [
      "End of 40, accuracy: 0.7058823704719543\n"
     ]
    },
    {
     "name": "stderr",
     "output_type": "stream",
     "text": [
      "Epoch 41: 100%|█████████████████████████████████████████████████████████████████| 70/70 [00:00<00:00, 682.40batch/s, acc=60.00%, loss=0.684]\n"
     ]
    },
    {
     "name": "stdout",
     "output_type": "stream",
     "text": [
      "End of 41, accuracy: 0.7058823704719543\n"
     ]
    },
    {
     "name": "stderr",
     "output_type": "stream",
     "text": [
      "Epoch 42: 100%|█████████████████████████████████████████████████████████████████| 70/70 [00:00<00:00, 653.52batch/s, acc=60.00%, loss=0.679]\n"
     ]
    },
    {
     "name": "stdout",
     "output_type": "stream",
     "text": [
      "End of 42, accuracy: 0.7058823704719543\n"
     ]
    },
    {
     "name": "stderr",
     "output_type": "stream",
     "text": [
      "Epoch 43: 100%|█████████████████████████████████████████████████████████████████| 70/70 [00:00<00:00, 694.36batch/s, acc=60.00%, loss=0.674]\n"
     ]
    },
    {
     "name": "stdout",
     "output_type": "stream",
     "text": [
      "End of 43, accuracy: 0.7058823704719543\n"
     ]
    },
    {
     "name": "stderr",
     "output_type": "stream",
     "text": [
      "Epoch 44: 100%|█████████████████████████████████████████████████████████████████| 70/70 [00:00<00:00, 668.23batch/s, acc=60.00%, loss=0.665]\n"
     ]
    },
    {
     "name": "stdout",
     "output_type": "stream",
     "text": [
      "End of 44, accuracy: 0.7058823704719543\n"
     ]
    },
    {
     "name": "stderr",
     "output_type": "stream",
     "text": [
      "Epoch 45: 100%|██████████████████████████████████████████████████████████████████| 70/70 [00:00<00:00, 652.71batch/s, acc=60.00%, loss=0.67]\n"
     ]
    },
    {
     "name": "stdout",
     "output_type": "stream",
     "text": [
      "End of 45, accuracy: 0.7058823704719543\n"
     ]
    },
    {
     "name": "stderr",
     "output_type": "stream",
     "text": [
      "Epoch 46: 100%|█████████████████████████████████████████████████████████████████| 70/70 [00:00<00:00, 702.84batch/s, acc=60.00%, loss=0.669]\n"
     ]
    },
    {
     "name": "stdout",
     "output_type": "stream",
     "text": [
      "End of 46, accuracy: 0.7058823704719543\n"
     ]
    },
    {
     "name": "stderr",
     "output_type": "stream",
     "text": [
      "Epoch 47: 100%|█████████████████████████████████████████████████████████████████| 70/70 [00:00<00:00, 709.38batch/s, acc=60.00%, loss=0.673]\n"
     ]
    },
    {
     "name": "stdout",
     "output_type": "stream",
     "text": [
      "End of 47, accuracy: 0.7058823704719543\n"
     ]
    },
    {
     "name": "stderr",
     "output_type": "stream",
     "text": [
      "Epoch 48: 100%|█████████████████████████████████████████████████████████████████| 70/70 [00:00<00:00, 712.39batch/s, acc=60.00%, loss=0.678]\n"
     ]
    },
    {
     "name": "stdout",
     "output_type": "stream",
     "text": [
      "End of 48, accuracy: 0.7058823704719543\n"
     ]
    },
    {
     "name": "stderr",
     "output_type": "stream",
     "text": [
      "Epoch 49: 100%|█████████████████████████████████████████████████████████████████| 70/70 [00:00<00:00, 678.79batch/s, acc=60.00%, loss=0.678]"
     ]
    },
    {
     "name": "stdout",
     "output_type": "stream",
     "text": [
      "End of 49, accuracy: 0.7058823704719543\n"
     ]
    },
    {
     "name": "stderr",
     "output_type": "stream",
     "text": [
      "\n"
     ]
    }
   ],
   "source": [
    "# simple training loop\n",
    "# number of epochs to run\n",
    "n_epochs = 50\n",
    "# size of each batch\n",
    "batch_size = 10\n",
    "batches_per_epoch = len(Xtrain) // batch_size\n",
    "\n",
    "# lists to collect statistics\n",
    "train_loss = []\n",
    "train_acc = []\n",
    "test_acc = []\n",
    "\n",
    "for epoch in range(n_epochs):\n",
    "    with tqdm.trange(batches_per_epoch, unit=\"batch\", mininterval=0) as bar:\n",
    "        bar.set_description(f\"Epoch {epoch}\")\n",
    "        for i in bar:\n",
    "            start = i * batch_size\n",
    "            # take a batch\n",
    "            Xbatch = Xtrain[start:start+batch_size]\n",
    "            ybatch = ytrain[start:start+batch_size]\n",
    "\n",
    "            # forward pass\n",
    "            y_pred = model(Xbatch)\n",
    "            loss = loss_fn(y_pred, ybatch)\n",
    "            # calculate accuracy\n",
    "            acc = (y_pred.round() == ybatch).float().mean()\n",
    "\n",
    "            # store metrics\n",
    "            train_loss.append(float(loss))\n",
    "            train_acc.append(float(acc))\n",
    "\n",
    "            # backward pass\n",
    "            # set every gradient to zero to add the new ones based on the new loss\n",
    "            optimizer.zero_grad()\n",
    "            # run backpropagation\n",
    "            loss.backward()\n",
    "\n",
    "            # update weights in the neural net (based on gradient descent)\n",
    "            optimizer.step()\n",
    "\n",
    "            # print progress\n",
    "            #print(f\"epoch: {epoch}, step: {i}, loss: {loss}, accuracy {acc}\")\n",
    "            bar.set_postfix(\n",
    "                loss=float(loss),\n",
    "                acc=f\"{float(acc)*100:.2f}%\"\n",
    "            )\n",
    "        \n",
    "    # evaluate model atend of epoch\n",
    "    y_pred = model(Xtest)\n",
    "    acc = (y_pred.round() == ytest).float().mean()\n",
    "    test_acc.append(float(acc))\n",
    "    print(f'End of {epoch}, accuracy: {acc}')"
   ]
  },
  {
   "cell_type": "code",
   "execution_count": 33,
   "id": "2e602cae-15a4-4f54-8580-2d70abce7101",
   "metadata": {},
   "outputs": [
    {
     "data": {
      "image/png": "[encoded data removed]",
      "text/plain": [
       "<Figure size 640x480 with 1 Axes>"
      ]
     },
     "metadata": {},
     "output_type": "display_data"
    },
    {
     "data": {
      "image/png": "[encoded data removed]",
      "text/plain": [
       "<Figure size 640x480 with 1 Axes>"
      ]
     },
     "metadata": {},
     "output_type": "display_data"
    }
   ],
   "source": [
    "# visualize metrics\n",
    "# Plot the loss metrics, set the y-axis to start from 0\n",
    "plt.plot(train_loss)\n",
    "plt.xlabel(\"steps\")\n",
    "plt.ylabel(\"loss\")\n",
    "plt.ylim(0.2)\n",
    "plt.show()\n",
    " \n",
    "# plot the accuracy metrics\n",
    "avg_train_acc = []\n",
    "for i in range(n_epochs):\n",
    "    start = i * batch_size\n",
    "    average = sum(train_acc[start:start+batches_per_epoch]) / batches_per_epoch\n",
    "    avg_train_acc.append(average)\n",
    "\n",
    "plt.plot(avg_train_acc, label=\"train\")\n",
    "plt.plot(test_acc, label=\"test\")\n",
    "plt.xlabel(\"epochs\")\n",
    "plt.ylabel(\"accuracy\")\n",
    "plt.ylim(0.5)\n",
    "plt.show()"
   ]
  },
  {
   "cell_type": "markdown",
   "id": "085ac533-1a05-44e6-b598-712d4bddc047",
   "metadata": {},
   "source": [
    "## 5 Evaluate the Model\n",
    "- Goal:\n",
    "    - choose a model configuration and training configuration that achieve the lowest loss and the highest accuracy posiible for a given dataset\n",
    "- Over- and Underfitting:\n",
    "    - **Overfitting**: model fits perfectly on the training set and therfore performs worse on the test set\n",
    "        - implement early stopping\n",
    "    - **Underfitting**: model is to simple to capture the complex associations"
   ]
  },
  {
   "cell_type": "code",
   "execution_count": 36,
   "id": "09f653c3-8424-470b-806e-536c3f9a6726",
   "metadata": {},
   "outputs": [
    {
     "name": "stdout",
     "output_type": "stream",
     "text": [
      "Accuracy 0.6911764740943909\n"
     ]
    }
   ],
   "source": [
    "# comptue accuracy on test set\n",
    "with torch.no_grad():\n",
    "    y_pred = model(Xtest)\n",
    "accuracy = (y_pred.round() == ytest).float().mean()\n",
    "print(f\"Accuracy {accuracy}\")"
   ]
  },
  {
   "cell_type": "markdown",
   "id": "18298037-9fd2-4a07-9411-08f2e5c268cd",
   "metadata": {},
   "source": [
    "## 6 Make Predictions\n",
    "- call the model as if is a function\n"
   ]
  },
  {
   "cell_type": "code",
   "execution_count": 37,
   "id": "aabed5a6-57a3-48b4-b8ac-007bc28d9777",
   "metadata": {},
   "outputs": [
    {
     "name": "stdout",
     "output_type": "stream",
     "text": [
      "tensor([[0.2667],\n",
      "        [0.3682],\n",
      "        [0.3763],\n",
      "        [0.4407],\n",
      "        [0.1184],\n",
      "        [0.1004],\n",
      "        [0.1048],\n",
      "        [0.3442],\n",
      "        [0.6845],\n",
      "        [0.2486]], grad_fn=<SliceBackward0>)\n",
      "tensor([[0.],\n",
      "        [0.],\n",
      "        [0.],\n",
      "        [0.],\n",
      "        [0.],\n",
      "        [0.],\n",
      "        [0.],\n",
      "        [0.],\n",
      "        [1.],\n",
      "        [0.]], grad_fn=<SliceBackward0>)\n"
     ]
    }
   ],
   "source": [
    "predictions = model(Xtest)\n",
    "print(predictions[:10])\n",
    "# use round to assign output to class 0 and 1\n",
    "pred_round = predictions.round()\n",
    "print(pred_round[:10])"
   ]
  },
  {
   "cell_type": "markdown",
   "id": "b1db6bc9-12f7-4ea9-b32a-ce6ff884d6c6",
   "metadata": {},
   "source": [
    "## Resources\n",
    "- https://machinelearningmastery.com/develop-your-first-neural-network-with-pytorch-step-by-step/\n",
    "- https://machinelearningmastery.com/creating-a-training-loop-for-pytorch-models/\n",
    "- https://medium.com/mlearning-ai/optimizers-in-deep-learning-7bf81fed78a0"
   ]
  },
  {
   "cell_type": "code",
   "execution_count": null,
   "id": "c9556604-161f-4715-86e4-901ceaed4a03",
   "metadata": {},
   "outputs": [],
   "source": []
  }
 ],
 "metadata": {
  "kernelspec": {
   "display_name": "Python 3 (ipykernel)",
   "language": "python",
   "name": "python3"
  },
  "language_info": {
   "codemirror_mode": {
    "name": "ipython",
    "version": 3
   },
   "file_extension": ".py",
   "mimetype": "text/x-python",
   "name": "python",
   "nbconvert_exporter": "python",
   "pygments_lexer": "ipython3",
   "version": "3.10.9"
  }
 },
 "nbformat": 4,
 "nbformat_minor": 5
}
